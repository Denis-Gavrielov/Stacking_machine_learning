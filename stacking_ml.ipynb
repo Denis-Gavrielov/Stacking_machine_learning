{
 "cells": [
  {
   "cell_type": "markdown",
   "metadata": {},
   "source": [
    "# Solving the Titanic Classification Problem Using the Stacking Method\n",
    "\n",
    "I am personally enjoying following data science competitions on Kaggle. I am currently completing the Machine Learning Engineer Nanodegree by Udacity which provides me with a fantastic mathematical and practical introduction to the most important machine learning algorithms. I found it interesting how lecturers in the Nanodegree emphasise applying a single best algorithm for a given problem to find an accurate solution. In contrast, professionals in data science competitions use Stacking to build complex models with many different underlying machine learning algorithms. Through Stacking, accuracy is maximised in practice.\n",
    "\n",
    "In this notebook I will not attempt to replicate one of those highly complex solutions. Instead, I will solve the Titanic classification problem found on Kaggle by first using various machine learning algorithms by themselves and later using a simple Stacking model. Finally, I will verify whether a Stacking solution gives a highest accuracy over single algorithms. \n",
    "\n",
    "The description, data set, and evaluation criteria for the problem can be found at https://www.kaggle.com/c/titanic.\n",
    "\n",
    "For this project I am using Python 3 and its most popular libraries for Data Science including pandas and numpy. I am using seaborn and matplotlib for data visualisation and scikit-learn and xgboost for machine learning.\n"
   ]
  },
  {
   "cell_type": "code",
   "execution_count": 2,
   "metadata": {},
   "outputs": [],
   "source": [
    "# suppress depreciation warnings \n",
    "import warnings\n",
    "warnings.filterwarnings('ignore')\n",
    "\n",
    "# Load in our libraries\n",
    "import pandas as pd\n",
    "import numpy as np\n",
    "import xgboost as xgb\n",
    "import seaborn as sns\n",
    "import matplotlib.pyplot as plt\n",
    "import re\n",
    "%matplotlib inline\n",
    "\n",
    "from sklearn.ensemble import GradientBoostingClassifier, \\\n",
    "AdaBoostClassifier, ExtraTreesClassifier\n",
    "from sklearn.svm import SVC \n",
    "from sklearn.model_selection import GridSearchCV #for tuning hyperparameters \n",
    "from sklearn.metrics import accuracy_score, make_scorer\n",
    "from sklearn.tree import DecisionTreeClassifier \n",
    "from sklearn.neighbors import KNeighborsClassifier "
   ]
  },
  {
   "cell_type": "markdown",
   "metadata": {},
   "source": [
    "# Feature/Data exploration\n",
    "\n",
    "On the Kaggle website there is the following description of the data:\n",
    "\n",
    "### Overview\n",
    "\n",
    "The data has been split into two groups:\n",
    "\n",
    "* training set (train.csv)\n",
    "* test set (test.csv)\n",
    "\n",
    "**The training set** should be used to build your machine learning models. For the training set, we provide the outcome (also known as the “ground truth”) for each passenger. Your model will be based on “features” like passengers’ gender and class. You can also use feature engineering to create new features.\n",
    "\n",
    "**The test set** should be used to see how well your model performs on unseen data. For the test set, we do not provide the ground truth for each passenger. It is your job to predict these outcomes. For each passenger in the test set, use the model you trained to predict whether or not they survived the sinking of the Titanic.\n",
    "\n",
    "We also include **gender_submission.csv**, a set of predictions that assume all and only female passengers survive, as an example of what a submission file should look like.\n",
    "\n",
    "### Data Dictionary\n",
    "\n",
    "**Variable\t(Definition)**\n",
    "\n",
    "survival\t(Survival\t0 = No, 1 = Yes) <br>\n",
    "pclass\t(Ticket class\t1 = 1st, 2 = 2nd, 3 = 3rd)<br>\n",
    "sex\t(Sex)<br>\t\n",
    "Age\t(Age in years)\t<br>\n",
    "sibsp\t(# of siblings / spouses aboard the Titanic)<br>\n",
    "parch\t(# of parents / children aboard the Titanic)\t<br>\n",
    "ticket\t(Ticket number)\t<br>\n",
    "fare\t(Passenger fare)\t<br>\n",
    "cabin\t(Cabin number)\t<br>\n",
    "embarked\t(Port of Embarkation\tC = Cherbourg, Q = Queenstown, S = Southampton)\n",
    "\n",
    "### Variable Notes\n",
    "\n",
    "**pclass:** A proxy for socio-economic status (SES)<br>\n",
    "1st = Upper<br>\n",
    "2nd = Middle<br>\n",
    "3rd = Lower<br>\n",
    "\n",
    "**age:** Age is fractional if less than 1. If the age is estimated, is it in the form of xx.5\n",
    "\n",
    "**sibsp:** The dataset defines family relations in this way...<br>\n",
    "Sibling = brother, sister, stepbrother, stepsister<br>\n",
    "Spouse = husband, wife (mistresses and fiancés were ignored)\n",
    "\n",
    "**parch:** The dataset defines family relations in this way...<br>\n",
    "Parent = mother, father<br>\n",
    "Child = daughter, son, stepdaughter, stepson<br>\n",
    "Some children travelled only with a nanny, therefore parch=0 for them."
   ]
  },
  {
   "cell_type": "code",
   "execution_count": 3,
   "metadata": {
    "collapsed": true
   },
   "outputs": [],
   "source": [
    "# Load in the train and test datasets\n",
    "train = pd.read_csv('./train.csv')\n",
    "test = pd.read_csv('./test.csv')\n",
    "\n",
    "PassengerId = test['PassengerId']"
   ]
  },
  {
   "cell_type": "markdown",
   "metadata": {},
   "source": [
    "I will display both datasets to get a better understanding of them and confirm that the PassengerID is the only feature which train has and test does not have. "
   ]
  },
  {
   "cell_type": "code",
   "execution_count": 4,
   "metadata": {},
   "outputs": [
    {
     "data": {
      "text/html": [
       "<div>\n",
       "<style>\n",
       "    .dataframe thead tr:only-child th {\n",
       "        text-align: right;\n",
       "    }\n",
       "\n",
       "    .dataframe thead th {\n",
       "        text-align: left;\n",
       "    }\n",
       "\n",
       "    .dataframe tbody tr th {\n",
       "        vertical-align: top;\n",
       "    }\n",
       "</style>\n",
       "<table border=\"1\" class=\"dataframe\">\n",
       "  <thead>\n",
       "    <tr style=\"text-align: right;\">\n",
       "      <th></th>\n",
       "      <th>PassengerId</th>\n",
       "      <th>Survived</th>\n",
       "      <th>Pclass</th>\n",
       "      <th>Name</th>\n",
       "      <th>Sex</th>\n",
       "      <th>Age</th>\n",
       "      <th>SibSp</th>\n",
       "      <th>Parch</th>\n",
       "      <th>Ticket</th>\n",
       "      <th>Fare</th>\n",
       "      <th>Cabin</th>\n",
       "      <th>Embarked</th>\n",
       "    </tr>\n",
       "  </thead>\n",
       "  <tbody>\n",
       "    <tr>\n",
       "      <th>0</th>\n",
       "      <td>1</td>\n",
       "      <td>0</td>\n",
       "      <td>3</td>\n",
       "      <td>Braund, Mr. Owen Harris</td>\n",
       "      <td>male</td>\n",
       "      <td>22.0</td>\n",
       "      <td>1</td>\n",
       "      <td>0</td>\n",
       "      <td>A/5 21171</td>\n",
       "      <td>7.2500</td>\n",
       "      <td>NaN</td>\n",
       "      <td>S</td>\n",
       "    </tr>\n",
       "    <tr>\n",
       "      <th>1</th>\n",
       "      <td>2</td>\n",
       "      <td>1</td>\n",
       "      <td>1</td>\n",
       "      <td>Cumings, Mrs. John Bradley (Florence Briggs Th...</td>\n",
       "      <td>female</td>\n",
       "      <td>38.0</td>\n",
       "      <td>1</td>\n",
       "      <td>0</td>\n",
       "      <td>PC 17599</td>\n",
       "      <td>71.2833</td>\n",
       "      <td>C85</td>\n",
       "      <td>C</td>\n",
       "    </tr>\n",
       "    <tr>\n",
       "      <th>2</th>\n",
       "      <td>3</td>\n",
       "      <td>1</td>\n",
       "      <td>3</td>\n",
       "      <td>Heikkinen, Miss. Laina</td>\n",
       "      <td>female</td>\n",
       "      <td>26.0</td>\n",
       "      <td>0</td>\n",
       "      <td>0</td>\n",
       "      <td>STON/O2. 3101282</td>\n",
       "      <td>7.9250</td>\n",
       "      <td>NaN</td>\n",
       "      <td>S</td>\n",
       "    </tr>\n",
       "    <tr>\n",
       "      <th>3</th>\n",
       "      <td>4</td>\n",
       "      <td>1</td>\n",
       "      <td>1</td>\n",
       "      <td>Futrelle, Mrs. Jacques Heath (Lily May Peel)</td>\n",
       "      <td>female</td>\n",
       "      <td>35.0</td>\n",
       "      <td>1</td>\n",
       "      <td>0</td>\n",
       "      <td>113803</td>\n",
       "      <td>53.1000</td>\n",
       "      <td>C123</td>\n",
       "      <td>S</td>\n",
       "    </tr>\n",
       "    <tr>\n",
       "      <th>4</th>\n",
       "      <td>5</td>\n",
       "      <td>0</td>\n",
       "      <td>3</td>\n",
       "      <td>Allen, Mr. William Henry</td>\n",
       "      <td>male</td>\n",
       "      <td>35.0</td>\n",
       "      <td>0</td>\n",
       "      <td>0</td>\n",
       "      <td>373450</td>\n",
       "      <td>8.0500</td>\n",
       "      <td>NaN</td>\n",
       "      <td>S</td>\n",
       "    </tr>\n",
       "  </tbody>\n",
       "</table>\n",
       "</div>"
      ],
      "text/plain": [
       "   PassengerId  Survived  Pclass  \\\n",
       "0            1         0       3   \n",
       "1            2         1       1   \n",
       "2            3         1       3   \n",
       "3            4         1       1   \n",
       "4            5         0       3   \n",
       "\n",
       "                                                Name     Sex   Age  SibSp  \\\n",
       "0                            Braund, Mr. Owen Harris    male  22.0      1   \n",
       "1  Cumings, Mrs. John Bradley (Florence Briggs Th...  female  38.0      1   \n",
       "2                             Heikkinen, Miss. Laina  female  26.0      0   \n",
       "3       Futrelle, Mrs. Jacques Heath (Lily May Peel)  female  35.0      1   \n",
       "4                           Allen, Mr. William Henry    male  35.0      0   \n",
       "\n",
       "   Parch            Ticket     Fare Cabin Embarked  \n",
       "0      0         A/5 21171   7.2500   NaN        S  \n",
       "1      0          PC 17599  71.2833   C85        C  \n",
       "2      0  STON/O2. 3101282   7.9250   NaN        S  \n",
       "3      0            113803  53.1000  C123        S  \n",
       "4      0            373450   8.0500   NaN        S  "
      ]
     },
     "metadata": {},
     "output_type": "display_data"
    },
    {
     "data": {
      "text/html": [
       "<div>\n",
       "<style>\n",
       "    .dataframe thead tr:only-child th {\n",
       "        text-align: right;\n",
       "    }\n",
       "\n",
       "    .dataframe thead th {\n",
       "        text-align: left;\n",
       "    }\n",
       "\n",
       "    .dataframe tbody tr th {\n",
       "        vertical-align: top;\n",
       "    }\n",
       "</style>\n",
       "<table border=\"1\" class=\"dataframe\">\n",
       "  <thead>\n",
       "    <tr style=\"text-align: right;\">\n",
       "      <th></th>\n",
       "      <th>PassengerId</th>\n",
       "      <th>Pclass</th>\n",
       "      <th>Name</th>\n",
       "      <th>Sex</th>\n",
       "      <th>Age</th>\n",
       "      <th>SibSp</th>\n",
       "      <th>Parch</th>\n",
       "      <th>Ticket</th>\n",
       "      <th>Fare</th>\n",
       "      <th>Cabin</th>\n",
       "      <th>Embarked</th>\n",
       "    </tr>\n",
       "  </thead>\n",
       "  <tbody>\n",
       "    <tr>\n",
       "      <th>0</th>\n",
       "      <td>892</td>\n",
       "      <td>3</td>\n",
       "      <td>Kelly, Mr. James</td>\n",
       "      <td>male</td>\n",
       "      <td>34.5</td>\n",
       "      <td>0</td>\n",
       "      <td>0</td>\n",
       "      <td>330911</td>\n",
       "      <td>7.8292</td>\n",
       "      <td>NaN</td>\n",
       "      <td>Q</td>\n",
       "    </tr>\n",
       "    <tr>\n",
       "      <th>1</th>\n",
       "      <td>893</td>\n",
       "      <td>3</td>\n",
       "      <td>Wilkes, Mrs. James (Ellen Needs)</td>\n",
       "      <td>female</td>\n",
       "      <td>47.0</td>\n",
       "      <td>1</td>\n",
       "      <td>0</td>\n",
       "      <td>363272</td>\n",
       "      <td>7.0000</td>\n",
       "      <td>NaN</td>\n",
       "      <td>S</td>\n",
       "    </tr>\n",
       "    <tr>\n",
       "      <th>2</th>\n",
       "      <td>894</td>\n",
       "      <td>2</td>\n",
       "      <td>Myles, Mr. Thomas Francis</td>\n",
       "      <td>male</td>\n",
       "      <td>62.0</td>\n",
       "      <td>0</td>\n",
       "      <td>0</td>\n",
       "      <td>240276</td>\n",
       "      <td>9.6875</td>\n",
       "      <td>NaN</td>\n",
       "      <td>Q</td>\n",
       "    </tr>\n",
       "    <tr>\n",
       "      <th>3</th>\n",
       "      <td>895</td>\n",
       "      <td>3</td>\n",
       "      <td>Wirz, Mr. Albert</td>\n",
       "      <td>male</td>\n",
       "      <td>27.0</td>\n",
       "      <td>0</td>\n",
       "      <td>0</td>\n",
       "      <td>315154</td>\n",
       "      <td>8.6625</td>\n",
       "      <td>NaN</td>\n",
       "      <td>S</td>\n",
       "    </tr>\n",
       "    <tr>\n",
       "      <th>4</th>\n",
       "      <td>896</td>\n",
       "      <td>3</td>\n",
       "      <td>Hirvonen, Mrs. Alexander (Helga E Lindqvist)</td>\n",
       "      <td>female</td>\n",
       "      <td>22.0</td>\n",
       "      <td>1</td>\n",
       "      <td>1</td>\n",
       "      <td>3101298</td>\n",
       "      <td>12.2875</td>\n",
       "      <td>NaN</td>\n",
       "      <td>S</td>\n",
       "    </tr>\n",
       "  </tbody>\n",
       "</table>\n",
       "</div>"
      ],
      "text/plain": [
       "   PassengerId  Pclass                                          Name     Sex  \\\n",
       "0          892       3                              Kelly, Mr. James    male   \n",
       "1          893       3              Wilkes, Mrs. James (Ellen Needs)  female   \n",
       "2          894       2                     Myles, Mr. Thomas Francis    male   \n",
       "3          895       3                              Wirz, Mr. Albert    male   \n",
       "4          896       3  Hirvonen, Mrs. Alexander (Helga E Lindqvist)  female   \n",
       "\n",
       "    Age  SibSp  Parch   Ticket     Fare Cabin Embarked  \n",
       "0  34.5      0      0   330911   7.8292   NaN        Q  \n",
       "1  47.0      1      0   363272   7.0000   NaN        S  \n",
       "2  62.0      0      0   240276   9.6875   NaN        Q  \n",
       "3  27.0      0      0   315154   8.6625   NaN        S  \n",
       "4  22.0      1      1  3101298  12.2875   NaN        S  "
      ]
     },
     "metadata": {},
     "output_type": "display_data"
    }
   ],
   "source": [
    "display(train.head())\n",
    "display(test.head())"
   ]
  },
  {
   "cell_type": "markdown",
   "metadata": {},
   "source": [
    "### NaN values\n",
    "\n",
    "First, I want to figure out which features have any NaN values. Most algorithms can not handle NaN values, so I will take care of them before doing any statistical prediction."
   ]
  },
  {
   "cell_type": "code",
   "execution_count": 5,
   "metadata": {},
   "outputs": [
    {
     "name": "stdout",
     "output_type": "stream",
     "text": [
      "{'Embarked', 'Age', 'Fare', 'Cabin'}\n"
     ]
    }
   ],
   "source": [
    "total = set()\n",
    "\n",
    "for i, y in enumerate(pd.isnull(train).sum() > 0):\n",
    "    if y:\n",
    "        total.add(train.columns[i])\n",
    "        \n",
    "for i, y in enumerate(pd.isnull(test).sum() > 0):\n",
    "    if y:\n",
    "        total.add(test.columns[i])\n",
    "\n",
    "print(total)"
   ]
  },
  {
   "cell_type": "markdown",
   "metadata": {},
   "source": [
    "The features that have some NaN values are: \n",
    "* Age\n",
    "* Cabin \n",
    "* Embarked\n",
    "* Fare"
   ]
  },
  {
   "cell_type": "markdown",
   "metadata": {},
   "source": [
    "## Cleaning and Pre-processesing the Data\n",
    "\n",
    "In this notebook my main goal is to varify whether Stacking increases the outcome of predictive modelling. Therefore, I have taken some data pre-processing ideas from other published kernels on Kaggle. Additionally, I have included my own ideas where I found an adjustment to be appropriate. "
   ]
  },
  {
   "cell_type": "markdown",
   "metadata": {},
   "source": [
    "Embarked does not take any numeric values, so I will check whether any of the values is most common in this feature."
   ]
  },
  {
   "cell_type": "code",
   "execution_count": 6,
   "metadata": {},
   "outputs": [
    {
     "name": "stdout",
     "output_type": "stream",
     "text": [
      "{'S': 644, 'C': 168, 'Q': 77, nan: 2}\n",
      "{'S': 914, 'C': 270, 'Q': 123, nan: 2}\n"
     ]
    }
   ],
   "source": [
    "# figure out which value to fill in for the NaN values in Embarked\n",
    "c = {}\n",
    "for i in train['Embarked']:\n",
    "    if i in c:\n",
    "        c[i] += 1\n",
    "    else:\n",
    "        c[i] = 1\n",
    "print(c)\n",
    "for i in test['Embarked']:\n",
    "    if i in c:\n",
    "        c[i] += 1\n",
    "    else:\n",
    "        c[i] = 1\n",
    "print(c)"
   ]
  },
  {
   "cell_type": "markdown",
   "metadata": {},
   "source": [
    "I figured out that 'S' (Southampton) is by far the most common port of embarkation and I will therefore fill all the NaN values with 'S'. "
   ]
  },
  {
   "cell_type": "code",
   "execution_count": 7,
   "metadata": {},
   "outputs": [
    {
     "name": "stdout",
     "output_type": "stream",
     "text": [
      "Dataset train:\n"
     ]
    },
    {
     "data": {
      "text/plain": [
       "Index(['Survived', 'Pclass', 'Sex', 'Age', 'Parch', 'Fare', 'Name_length',\n",
       "       'FamilySize', 'IsAlone', 'cabin_0', 'cabin_A', 'cabin_B', 'cabin_C',\n",
       "       'cabin_D', 'cabin_E', 'cabin_F', 'cabin_G', 'cabin_T', 'Master', 'Miss',\n",
       "       'Mr', 'Mrs', 'Rare', 'embarked_C', 'embarked_Q', 'embarked_S'],\n",
       "      dtype='object')"
      ]
     },
     "metadata": {},
     "output_type": "display_data"
    },
    {
     "data": {
      "text/html": [
       "<div>\n",
       "<style>\n",
       "    .dataframe thead tr:only-child th {\n",
       "        text-align: right;\n",
       "    }\n",
       "\n",
       "    .dataframe thead th {\n",
       "        text-align: left;\n",
       "    }\n",
       "\n",
       "    .dataframe tbody tr th {\n",
       "        vertical-align: top;\n",
       "    }\n",
       "</style>\n",
       "<table border=\"1\" class=\"dataframe\">\n",
       "  <thead>\n",
       "    <tr style=\"text-align: right;\">\n",
       "      <th></th>\n",
       "      <th>Survived</th>\n",
       "      <th>Pclass</th>\n",
       "      <th>Sex</th>\n",
       "      <th>Age</th>\n",
       "      <th>Parch</th>\n",
       "      <th>Fare</th>\n",
       "      <th>Name_length</th>\n",
       "      <th>FamilySize</th>\n",
       "      <th>IsAlone</th>\n",
       "      <th>cabin_0</th>\n",
       "      <th>...</th>\n",
       "      <th>cabin_G</th>\n",
       "      <th>cabin_T</th>\n",
       "      <th>Master</th>\n",
       "      <th>Miss</th>\n",
       "      <th>Mr</th>\n",
       "      <th>Mrs</th>\n",
       "      <th>Rare</th>\n",
       "      <th>embarked_C</th>\n",
       "      <th>embarked_Q</th>\n",
       "      <th>embarked_S</th>\n",
       "    </tr>\n",
       "  </thead>\n",
       "  <tbody>\n",
       "    <tr>\n",
       "      <th>0</th>\n",
       "      <td>0</td>\n",
       "      <td>3</td>\n",
       "      <td>1</td>\n",
       "      <td>22.0</td>\n",
       "      <td>0</td>\n",
       "      <td>7.2500</td>\n",
       "      <td>23</td>\n",
       "      <td>2</td>\n",
       "      <td>0</td>\n",
       "      <td>1</td>\n",
       "      <td>...</td>\n",
       "      <td>0</td>\n",
       "      <td>0</td>\n",
       "      <td>0</td>\n",
       "      <td>0</td>\n",
       "      <td>1</td>\n",
       "      <td>0</td>\n",
       "      <td>0</td>\n",
       "      <td>0</td>\n",
       "      <td>0</td>\n",
       "      <td>1</td>\n",
       "    </tr>\n",
       "    <tr>\n",
       "      <th>1</th>\n",
       "      <td>1</td>\n",
       "      <td>1</td>\n",
       "      <td>0</td>\n",
       "      <td>38.0</td>\n",
       "      <td>0</td>\n",
       "      <td>71.2833</td>\n",
       "      <td>51</td>\n",
       "      <td>2</td>\n",
       "      <td>0</td>\n",
       "      <td>0</td>\n",
       "      <td>...</td>\n",
       "      <td>0</td>\n",
       "      <td>0</td>\n",
       "      <td>0</td>\n",
       "      <td>0</td>\n",
       "      <td>0</td>\n",
       "      <td>1</td>\n",
       "      <td>0</td>\n",
       "      <td>1</td>\n",
       "      <td>0</td>\n",
       "      <td>0</td>\n",
       "    </tr>\n",
       "    <tr>\n",
       "      <th>2</th>\n",
       "      <td>1</td>\n",
       "      <td>3</td>\n",
       "      <td>0</td>\n",
       "      <td>26.0</td>\n",
       "      <td>0</td>\n",
       "      <td>7.9250</td>\n",
       "      <td>22</td>\n",
       "      <td>1</td>\n",
       "      <td>1</td>\n",
       "      <td>1</td>\n",
       "      <td>...</td>\n",
       "      <td>0</td>\n",
       "      <td>0</td>\n",
       "      <td>0</td>\n",
       "      <td>1</td>\n",
       "      <td>0</td>\n",
       "      <td>0</td>\n",
       "      <td>0</td>\n",
       "      <td>0</td>\n",
       "      <td>0</td>\n",
       "      <td>1</td>\n",
       "    </tr>\n",
       "    <tr>\n",
       "      <th>3</th>\n",
       "      <td>1</td>\n",
       "      <td>1</td>\n",
       "      <td>0</td>\n",
       "      <td>35.0</td>\n",
       "      <td>0</td>\n",
       "      <td>53.1000</td>\n",
       "      <td>44</td>\n",
       "      <td>2</td>\n",
       "      <td>0</td>\n",
       "      <td>0</td>\n",
       "      <td>...</td>\n",
       "      <td>0</td>\n",
       "      <td>0</td>\n",
       "      <td>0</td>\n",
       "      <td>0</td>\n",
       "      <td>0</td>\n",
       "      <td>1</td>\n",
       "      <td>0</td>\n",
       "      <td>0</td>\n",
       "      <td>0</td>\n",
       "      <td>1</td>\n",
       "    </tr>\n",
       "    <tr>\n",
       "      <th>4</th>\n",
       "      <td>0</td>\n",
       "      <td>3</td>\n",
       "      <td>1</td>\n",
       "      <td>35.0</td>\n",
       "      <td>0</td>\n",
       "      <td>8.0500</td>\n",
       "      <td>24</td>\n",
       "      <td>1</td>\n",
       "      <td>1</td>\n",
       "      <td>1</td>\n",
       "      <td>...</td>\n",
       "      <td>0</td>\n",
       "      <td>0</td>\n",
       "      <td>0</td>\n",
       "      <td>0</td>\n",
       "      <td>1</td>\n",
       "      <td>0</td>\n",
       "      <td>0</td>\n",
       "      <td>0</td>\n",
       "      <td>0</td>\n",
       "      <td>1</td>\n",
       "    </tr>\n",
       "  </tbody>\n",
       "</table>\n",
       "<p>5 rows × 26 columns</p>\n",
       "</div>"
      ],
      "text/plain": [
       "   Survived  Pclass  Sex   Age  Parch     Fare  Name_length  FamilySize  \\\n",
       "0         0       3    1  22.0      0   7.2500           23           2   \n",
       "1         1       1    0  38.0      0  71.2833           51           2   \n",
       "2         1       3    0  26.0      0   7.9250           22           1   \n",
       "3         1       1    0  35.0      0  53.1000           44           2   \n",
       "4         0       3    1  35.0      0   8.0500           24           1   \n",
       "\n",
       "   IsAlone  cabin_0     ...      cabin_G  cabin_T  Master  Miss  Mr  Mrs  \\\n",
       "0        0        1     ...            0        0       0     0   1    0   \n",
       "1        0        0     ...            0        0       0     0   0    1   \n",
       "2        1        1     ...            0        0       0     1   0    0   \n",
       "3        0        0     ...            0        0       0     0   0    1   \n",
       "4        1        1     ...            0        0       0     0   1    0   \n",
       "\n",
       "   Rare  embarked_C  embarked_Q  embarked_S  \n",
       "0     0           0           0           1  \n",
       "1     0           1           0           0  \n",
       "2     0           0           0           1  \n",
       "3     0           0           0           1  \n",
       "4     0           0           0           1  \n",
       "\n",
       "[5 rows x 26 columns]"
      ]
     },
     "metadata": {},
     "output_type": "display_data"
    },
    {
     "name": "stdout",
     "output_type": "stream",
     "text": [
      "Dataset test:\n"
     ]
    },
    {
     "data": {
      "text/plain": [
       "Index(['Pclass', 'Sex', 'Age', 'Parch', 'Fare', 'Name_length', 'FamilySize',\n",
       "       'IsAlone', 'cabin_0', 'cabin_A', 'cabin_B', 'cabin_C', 'cabin_D',\n",
       "       'cabin_E', 'cabin_F', 'cabin_G', 'Master', 'Miss', 'Mr', 'Mrs', 'Rare',\n",
       "       'embarked_C', 'embarked_Q', 'embarked_S'],\n",
       "      dtype='object')"
      ]
     },
     "metadata": {},
     "output_type": "display_data"
    },
    {
     "data": {
      "text/html": [
       "<div>\n",
       "<style>\n",
       "    .dataframe thead tr:only-child th {\n",
       "        text-align: right;\n",
       "    }\n",
       "\n",
       "    .dataframe thead th {\n",
       "        text-align: left;\n",
       "    }\n",
       "\n",
       "    .dataframe tbody tr th {\n",
       "        vertical-align: top;\n",
       "    }\n",
       "</style>\n",
       "<table border=\"1\" class=\"dataframe\">\n",
       "  <thead>\n",
       "    <tr style=\"text-align: right;\">\n",
       "      <th></th>\n",
       "      <th>Pclass</th>\n",
       "      <th>Sex</th>\n",
       "      <th>Age</th>\n",
       "      <th>Parch</th>\n",
       "      <th>Fare</th>\n",
       "      <th>Name_length</th>\n",
       "      <th>FamilySize</th>\n",
       "      <th>IsAlone</th>\n",
       "      <th>cabin_0</th>\n",
       "      <th>cabin_A</th>\n",
       "      <th>...</th>\n",
       "      <th>cabin_F</th>\n",
       "      <th>cabin_G</th>\n",
       "      <th>Master</th>\n",
       "      <th>Miss</th>\n",
       "      <th>Mr</th>\n",
       "      <th>Mrs</th>\n",
       "      <th>Rare</th>\n",
       "      <th>embarked_C</th>\n",
       "      <th>embarked_Q</th>\n",
       "      <th>embarked_S</th>\n",
       "    </tr>\n",
       "  </thead>\n",
       "  <tbody>\n",
       "    <tr>\n",
       "      <th>0</th>\n",
       "      <td>3</td>\n",
       "      <td>1</td>\n",
       "      <td>34.5</td>\n",
       "      <td>0</td>\n",
       "      <td>7.8292</td>\n",
       "      <td>16</td>\n",
       "      <td>1</td>\n",
       "      <td>1</td>\n",
       "      <td>1</td>\n",
       "      <td>0</td>\n",
       "      <td>...</td>\n",
       "      <td>0</td>\n",
       "      <td>0</td>\n",
       "      <td>0</td>\n",
       "      <td>0</td>\n",
       "      <td>1</td>\n",
       "      <td>0</td>\n",
       "      <td>0</td>\n",
       "      <td>0</td>\n",
       "      <td>1</td>\n",
       "      <td>0</td>\n",
       "    </tr>\n",
       "    <tr>\n",
       "      <th>1</th>\n",
       "      <td>3</td>\n",
       "      <td>0</td>\n",
       "      <td>47.0</td>\n",
       "      <td>0</td>\n",
       "      <td>7.0000</td>\n",
       "      <td>32</td>\n",
       "      <td>2</td>\n",
       "      <td>0</td>\n",
       "      <td>1</td>\n",
       "      <td>0</td>\n",
       "      <td>...</td>\n",
       "      <td>0</td>\n",
       "      <td>0</td>\n",
       "      <td>0</td>\n",
       "      <td>0</td>\n",
       "      <td>0</td>\n",
       "      <td>1</td>\n",
       "      <td>0</td>\n",
       "      <td>0</td>\n",
       "      <td>0</td>\n",
       "      <td>1</td>\n",
       "    </tr>\n",
       "    <tr>\n",
       "      <th>2</th>\n",
       "      <td>2</td>\n",
       "      <td>1</td>\n",
       "      <td>62.0</td>\n",
       "      <td>0</td>\n",
       "      <td>9.6875</td>\n",
       "      <td>25</td>\n",
       "      <td>1</td>\n",
       "      <td>1</td>\n",
       "      <td>1</td>\n",
       "      <td>0</td>\n",
       "      <td>...</td>\n",
       "      <td>0</td>\n",
       "      <td>0</td>\n",
       "      <td>0</td>\n",
       "      <td>0</td>\n",
       "      <td>1</td>\n",
       "      <td>0</td>\n",
       "      <td>0</td>\n",
       "      <td>0</td>\n",
       "      <td>1</td>\n",
       "      <td>0</td>\n",
       "    </tr>\n",
       "    <tr>\n",
       "      <th>3</th>\n",
       "      <td>3</td>\n",
       "      <td>1</td>\n",
       "      <td>27.0</td>\n",
       "      <td>0</td>\n",
       "      <td>8.6625</td>\n",
       "      <td>16</td>\n",
       "      <td>1</td>\n",
       "      <td>1</td>\n",
       "      <td>1</td>\n",
       "      <td>0</td>\n",
       "      <td>...</td>\n",
       "      <td>0</td>\n",
       "      <td>0</td>\n",
       "      <td>0</td>\n",
       "      <td>0</td>\n",
       "      <td>1</td>\n",
       "      <td>0</td>\n",
       "      <td>0</td>\n",
       "      <td>0</td>\n",
       "      <td>0</td>\n",
       "      <td>1</td>\n",
       "    </tr>\n",
       "    <tr>\n",
       "      <th>4</th>\n",
       "      <td>3</td>\n",
       "      <td>0</td>\n",
       "      <td>22.0</td>\n",
       "      <td>1</td>\n",
       "      <td>12.2875</td>\n",
       "      <td>44</td>\n",
       "      <td>3</td>\n",
       "      <td>0</td>\n",
       "      <td>1</td>\n",
       "      <td>0</td>\n",
       "      <td>...</td>\n",
       "      <td>0</td>\n",
       "      <td>0</td>\n",
       "      <td>0</td>\n",
       "      <td>0</td>\n",
       "      <td>0</td>\n",
       "      <td>1</td>\n",
       "      <td>0</td>\n",
       "      <td>0</td>\n",
       "      <td>0</td>\n",
       "      <td>1</td>\n",
       "    </tr>\n",
       "  </tbody>\n",
       "</table>\n",
       "<p>5 rows × 24 columns</p>\n",
       "</div>"
      ],
      "text/plain": [
       "   Pclass  Sex   Age  Parch     Fare  Name_length  FamilySize  IsAlone  \\\n",
       "0       3    1  34.5      0   7.8292           16           1        1   \n",
       "1       3    0  47.0      0   7.0000           32           2        0   \n",
       "2       2    1  62.0      0   9.6875           25           1        1   \n",
       "3       3    1  27.0      0   8.6625           16           1        1   \n",
       "4       3    0  22.0      1  12.2875           44           3        0   \n",
       "\n",
       "   cabin_0  cabin_A     ...      cabin_F  cabin_G  Master  Miss  Mr  Mrs  \\\n",
       "0        1        0     ...            0        0       0     0   1    0   \n",
       "1        1        0     ...            0        0       0     0   0    1   \n",
       "2        1        0     ...            0        0       0     0   1    0   \n",
       "3        1        0     ...            0        0       0     0   1    0   \n",
       "4        1        0     ...            0        0       0     0   0    1   \n",
       "\n",
       "   Rare  embarked_C  embarked_Q  embarked_S  \n",
       "0     0           0           1           0  \n",
       "1     0           0           0           1  \n",
       "2     0           0           1           0  \n",
       "3     0           0           0           1  \n",
       "4     0           0           0           1  \n",
       "\n",
       "[5 rows x 24 columns]"
      ]
     },
     "metadata": {},
     "output_type": "display_data"
    }
   ],
   "source": [
    "# I will apply the data cleaning to both datasets for consistency.\n",
    "full = [train, test]\n",
    "\n",
    "# I found this online in another published solution. It is a good way  \n",
    "# to create a feature with the Title of a person:\n",
    "# Define function to extract titles from passenger names\n",
    "def get_title(name):\n",
    "    title_search = re.search(' ([A-Za-z]+)\\.', name)\n",
    "    # If the title exists, extract and return it.\n",
    "    if title_search:\n",
    "        return title_search.group(1)\n",
    "    return \"\"\n",
    "\n",
    "for dataset in full:\n",
    "    # Create a new feature Title:\n",
    "    dataset['Title'] = dataset['Name'].apply(get_title)\n",
    "    dataset['Title'] = dataset['Title'].replace(['Lady', 'Countess',\n",
    "                                                 'Capt', 'Col','Don', \n",
    "                                                 'Dr', 'Major', 'Rev', \n",
    "                                                 'Sir', 'Jonkheer', \n",
    "                                                 'Dona'], 'Rare')\n",
    "    dataset['Title'] = dataset['Title'].replace('Mlle', 'Miss')\n",
    "    dataset['Title'] = dataset['Title'].replace('Ms', 'Miss')\n",
    "    dataset['Title'] = dataset['Title'].replace('Mme', 'Mrs')\n",
    "    dataset['Title'] = dataset['Title'].fillna(0)\n",
    "\n",
    "    \n",
    "    #turn Name into a numerical value\n",
    "    dataset['Name_length'] = dataset['Name'].apply(len)\n",
    "    \n",
    "    #get rid of NaN values in Cabin and define which cabin class \n",
    "    # the passenger is travelling in\n",
    "    dataset['Has_cabin'] = \\\n",
    "    dataset['Cabin'].apply(lambda x: \n",
    "                           \"cabin_0\" if type(x) == float \n",
    "                           else \"cabin_\" + x[0])\n",
    "    \n",
    "    #create feature indicating family size travelling with\n",
    "    dataset['FamilySize'] = dataset['SibSp'] + dataset['Parch'] + 1 \n",
    "    \n",
    "    #create feature indicating if travelling alone\n",
    "    dataset['IsAlone'] = 0 \n",
    "    dataset.loc[dataset['FamilySize'] == 1, 'IsAlone'] = 1\n",
    "    \n",
    "    #fill in 'S' for NaN values in Embarked\n",
    "    dataset['Embarked'] = dataset['Embarked'].fillna('S')\n",
    "    dataset['Embarked'] = \\\n",
    "    dataset['Embarked'].apply(lambda x: \"embarked_\" + x)\n",
    "    \n",
    "    #fill NaN in Fare by using the median values\n",
    "    dataset['Fare'] = dataset['Fare'].fillna(train['Fare'].median())\n",
    "    \n",
    "    # fill NaN in Age by using the median values\n",
    "    dataset['Age'] = dataset['Age'].fillna(train['Fare'].median())\n",
    "    \n",
    "    #mapping Sex to create a numeric value\n",
    "    dataset['Sex'] = \\\n",
    "    dataset['Sex'].map({'female':0, 'male':1}).astype(int)\n",
    "    \n",
    "    \n",
    "    \n",
    "\n",
    "# creating numerical dummy variables from Has_cabin, Title, and Embarked\n",
    "cabin_add = pd.get_dummies(train['Has_cabin'])\n",
    "title_add = pd.get_dummies(train['Title'])\n",
    "embarked_add = pd.get_dummies(train['Embarked'])\n",
    "train = pd.concat([train, cabin_add, title_add, embarked_add], axis=1)\n",
    "\n",
    "cabin_add = pd.get_dummies(test['Has_cabin'])\n",
    "title_add = pd.get_dummies(test['Title'])\n",
    "embarked_add = pd.get_dummies(test['Embarked'])\n",
    "test = pd.concat([test, cabin_add, title_add, embarked_add], axis=1)\n",
    "\n",
    "# drop the redundant elements \n",
    "drop_elements = ['PassengerId', 'Name', 'Ticket', \n",
    "                 'Cabin', 'SibSp', 'Embarked', 'Has_cabin', 'Title']\n",
    "train = train.drop(drop_elements, axis=1)\n",
    "test = test.drop(drop_elements, axis=1)\n",
    "\n",
    "## finally, check the new output: \n",
    "print('Dataset train:')\n",
    "display(train.columns)\n",
    "display(train.head())\n",
    "\n",
    "print('Dataset test:')\n",
    "display(test.columns)\n",
    "display(test.head())"
   ]
  },
  {
   "cell_type": "markdown",
   "metadata": {},
   "source": [
    "In my new datasets I have no NaN values and all the values are numeric. Also, I have transformed all categorical values into dummy variables. Now I can apply the algorithms well. \n",
    "\n",
    "I have noticed though, that the cabin_T dummy was not added in the test dataset (because there was no \"1\" value for cabin_T in the test dataset). Some algorithms require an equal column length for testing and training and therefore I will add the cabin_T feature with only 0 values to the test dataset. "
   ]
  },
  {
   "cell_type": "code",
   "execution_count": 8,
   "metadata": {
    "collapsed": true
   },
   "outputs": [],
   "source": [
    "# test has no cabin_T column. Adding cabin_T column: \n",
    "test['cabin_T'] = np.array(np.zeros(test.shape[0]), dtype=np.int)\n",
    "cols = test.columns.tolist()\n",
    "cols = cols[:16] + cols[-1:] + cols[16:24]\n",
    "test = test[cols]"
   ]
  },
  {
   "cell_type": "markdown",
   "metadata": {},
   "source": [
    "# Visualisation"
   ]
  },
  {
   "cell_type": "code",
   "execution_count": 9,
   "metadata": {},
   "outputs": [
    {
     "data": {
      "text/plain": [
       "<matplotlib.axes._subplots.AxesSubplot at 0x10d659630>"
      ]
     },
     "execution_count": 9,
     "metadata": {},
     "output_type": "execute_result"
    },
    {
     "data": {
      "image/png": "[encoded data removed]",
      "text/plain": [
       "<matplotlib.figure.Figure at 0x10d659438>"
      ]
     },
     "metadata": {},
     "output_type": "display_data"
    }
   ],
   "source": [
    "colormap = plt.cm.viridis\n",
    "plt.figure(figsize=(14,14))\n",
    "plt.title('Pearson Correlation of Features', y=1.05, size=15)\n",
    "sns.heatmap(train.astype(float).corr(),linewidths=0.1,vmax=1.0, \n",
    "            square=True, cmap=colormap, linecolor='white')"
   ]
  },
  {
   "cell_type": "markdown",
   "metadata": {},
   "source": [
    "Because of all the dummy variables, this heatmap might seem slightly messy. I can still get a feeling for the importance of certain features. For example, I can see that Sex as well as Mr have a strong negative correlation with Survived, so men had a lower chance of surviving. The relative light green colour in Name_length shows that passengers with longer names had a better chance of surviving. \n",
    "\n",
    "These are some interesting insights. Now, let us dive into training the models that will hopefully produce some accurate classifications for our test set."
   ]
  },
  {
   "cell_type": "markdown",
   "metadata": {},
   "source": [
    "# First Level Classification Algorithms\n",
    "\n",
    "Now that the datasets are adjusted, I will start training seven different machine learning algorithms. I have tried to include algorithms with different underlying principles to ensure diverse results, so I have as much variety as possible when I will be Stacking them. \n",
    "\n",
    "For the individual algorithms I will use a grid search 3-fold cross validation to find the best hyperparameters from a small choice of parameters. Then, I will train the algorithm with the fine tuned hyperparameters and save the results for later use. The scoring method is specified by the competition and will be a simple accuracy score (correctly classified data points over all data points). \n",
    "\n",
    "Please note that, due to the nature of Kaggle competitions, the actual score for the testing set can only be seen when submitting the correct .csv file. If you want to verify my results by submitting the scores yourself, please feel free to resubmit my work on Kaggle yourself. I am happy to send over my .ipynb file upon request. "
   ]
  },
  {
   "cell_type": "code",
   "execution_count": 10,
   "metadata": {
    "scrolled": true
   },
   "outputs": [
    {
     "name": "stdout",
     "output_type": "stream",
     "text": [
      "Training set has 891 samples.\n",
      "Testing set has 418 samples.\n"
     ]
    }
   ],
   "source": [
    "SEED = 0 # for reproducibility if I want to re-run the script\n",
    "\n",
    "#creating the target feature for our training test set \n",
    "survived = train['Survived'] \n",
    "del train['Survived']\n",
    "\n",
    "X_train = train\n",
    "y_train = survived\n",
    "X_test = test\n",
    "\n",
    "print(\"Training set has {} samples.\".format(X_train.shape[0]))\n",
    "print(\"Testing set has {} samples.\".format(X_test.shape[0]))"
   ]
  },
  {
   "cell_type": "markdown",
   "metadata": {},
   "source": [
    "### Gradient Boosting Classifier"
   ]
  },
  {
   "cell_type": "code",
   "execution_count": 11,
   "metadata": {
    "scrolled": true
   },
   "outputs": [
    {
     "data": {
      "text/plain": [
       "{'max_depth': 10, 'min_samples_split': 100, 'n_estimators': 100}"
      ]
     },
     "execution_count": 11,
     "metadata": {},
     "output_type": "execute_result"
    }
   ],
   "source": [
    "gbc = GradientBoostingClassifier(random_state=SEED)\n",
    "\n",
    "parameters = {'max_depth': [2, 5, 10], \n",
    "              'min_samples_split': [2, 100], \n",
    "              'n_estimators': [100, 500]}\n",
    "\n",
    "scorer = make_scorer(accuracy_score)\n",
    "\n",
    "# we will use the default grid search crossvalidation with 3 folds. \n",
    "grid_obj = GridSearchCV(estimator=gbc,\n",
    "                       param_grid=parameters,\n",
    "                       scoring=scorer)\n",
    "\n",
    "grid_fit = grid_obj.fit(X_train, y_train)\n",
    "\n",
    "gbc_params = grid_fit.best_params_\n",
    "gbc_score = grid_fit.best_score_\n",
    "gbc_params # display the best parameters for gbc "
   ]
  },
  {
   "cell_type": "code",
   "execution_count": 12,
   "metadata": {
    "collapsed": true
   },
   "outputs": [],
   "source": [
    "gbc = GradientBoostingClassifier(max_depth=10,\n",
    "                                min_samples_split=100,\n",
    "                                n_estimators=100,\n",
    "                                random_state=SEED)\n",
    "\n",
    "\n",
    "gbc.fit(X_train, y_train)\n",
    "\n",
    "gbc_pred = gbc.predict(X_test)\n",
    "\n",
    "gbc_features = gbc.feature_importances_"
   ]
  },
  {
   "cell_type": "markdown",
   "metadata": {},
   "source": [
    "### Decision Tree Classifier"
   ]
  },
  {
   "cell_type": "code",
   "execution_count": 13,
   "metadata": {},
   "outputs": [
    {
     "data": {
      "text/plain": [
       "{'max_depth': 15,\n",
       " 'max_features': 1.0,\n",
       " 'min_samples_split': 10,\n",
       " 'splitter': 'random'}"
      ]
     },
     "execution_count": 13,
     "metadata": {},
     "output_type": "execute_result"
    }
   ],
   "source": [
    "dtc = DecisionTreeClassifier(random_state=SEED)\n",
    "\n",
    "parameters = {'splitter': ['best', 'random'], \n",
    "              'max_depth': [2, 5, 10, 15], \n",
    "              'min_samples_split': [2, 5, 10],\n",
    "             'max_features': [1.0, 0.75, 0.5, 0.25]}\n",
    "\n",
    "scorer = make_scorer(accuracy_score)\n",
    "\n",
    "\n",
    "grid_obj = GridSearchCV(estimator=dtc,\n",
    "                       param_grid=parameters,\n",
    "                       scoring=scorer)\n",
    "\n",
    "grid_fit = grid_obj.fit(X_train, y_train)\n",
    "\n",
    "dtc_params = grid_fit.best_params_\n",
    "dtc_score = grid_fit.best_score_\n",
    "dtc_params "
   ]
  },
  {
   "cell_type": "code",
   "execution_count": 14,
   "metadata": {
    "collapsed": true
   },
   "outputs": [],
   "source": [
    "dtc = DecisionTreeClassifier(max_depth=15,\n",
    "                                max_features=1.0,\n",
    "                                min_samples_split=10,\n",
    "                                splitter='random',\n",
    "                                random_state=SEED)\n",
    "\n",
    "dtc.fit(X_train, y_train)\n",
    "dtc_pred = gbc.predict(X_test)\n",
    "\n",
    "dtc_features = dtc.feature_importances_"
   ]
  },
  {
   "cell_type": "markdown",
   "metadata": {},
   "source": [
    "### Ada Boost Classifier"
   ]
  },
  {
   "cell_type": "code",
   "execution_count": 15,
   "metadata": {},
   "outputs": [
    {
     "data": {
      "text/plain": [
       "{'learning_rate': 0.7, 'n_estimators': 50}"
      ]
     },
     "execution_count": 15,
     "metadata": {},
     "output_type": "execute_result"
    }
   ],
   "source": [
    "abc = AdaBoostClassifier(random_state=SEED)\n",
    "\n",
    "parameters = {'n_estimators': [50, 100, 200], \n",
    "              'learning_rate': [0.7, 1, 1.5]}\n",
    "\n",
    "scorer = make_scorer(accuracy_score)\n",
    "\n",
    "\n",
    "grid_obj = GridSearchCV(estimator=abc,\n",
    "                       param_grid=parameters,\n",
    "                       scoring=scorer)\n",
    "\n",
    "grid_fit = grid_obj.fit(X_train, y_train)\n",
    "\n",
    "abc_params = grid_fit.best_params_\n",
    "abc_score = grid_fit.best_score_\n",
    "abc_params "
   ]
  },
  {
   "cell_type": "code",
   "execution_count": 16,
   "metadata": {
    "collapsed": true
   },
   "outputs": [],
   "source": [
    "abc = AdaBoostClassifier(learning_rate=0.7,\n",
    "                                n_estimators=50,\n",
    "                                random_state=SEED)\n",
    "\n",
    "abc.fit(X_train, y_train)\n",
    "\n",
    "abc_pred = gbc.predict(X_test)\n",
    "\n",
    "abc_features = abc.feature_importances_"
   ]
  },
  {
   "cell_type": "markdown",
   "metadata": {},
   "source": [
    "### Extra Trees Classifier"
   ]
  },
  {
   "cell_type": "code",
   "execution_count": 17,
   "metadata": {},
   "outputs": [
    {
     "data": {
      "text/plain": [
       "{'max_depth': 6,\n",
       " 'max_features': 0.75,\n",
       " 'min_samples_split': 5,\n",
       " 'n_estimators': 10}"
      ]
     },
     "execution_count": 17,
     "metadata": {},
     "output_type": "execute_result"
    }
   ],
   "source": [
    "etc = ExtraTreesClassifier(random_state=SEED)\n",
    "\n",
    "parameters = {'n_estimators': [10, 50, 100], \n",
    "              'max_features': [1.0, 0.75, 0.5],\n",
    "             'max_depth': [3, 6, 9, 12],\n",
    "             'min_samples_split': [2, 5, 15]}\n",
    "\n",
    "scorer = make_scorer(accuracy_score)\n",
    "\n",
    "\n",
    "grid_obj = GridSearchCV(estimator=etc,\n",
    "                       param_grid=parameters,\n",
    "                       scoring=scorer)\n",
    "\n",
    "grid_fit = grid_obj.fit(X_train, y_train)\n",
    "\n",
    "etc_params = grid_fit.best_params_\n",
    "etc_score = grid_fit.best_score_\n",
    "etc_params "
   ]
  },
  {
   "cell_type": "code",
   "execution_count": 18,
   "metadata": {
    "collapsed": true
   },
   "outputs": [],
   "source": [
    "etc = ExtraTreesClassifier(max_depth=6,\n",
    "                                max_features=0.75,\n",
    "                                min_samples_split=5,\n",
    "                                n_estimators=10,\n",
    "                                random_state=SEED)\n",
    "\n",
    "etc.fit(X_train, y_train)\n",
    "\n",
    "etc_pred = gbc.predict(X_test)\n",
    "\n",
    "etc_features = etc.feature_importances_"
   ]
  },
  {
   "cell_type": "markdown",
   "metadata": {},
   "source": [
    "### Support Vector Machine Classifier"
   ]
  },
  {
   "cell_type": "code",
   "execution_count": 19,
   "metadata": {
    "scrolled": true
   },
   "outputs": [
    {
     "data": {
      "text/plain": [
       "{'C': 1, 'gamma': 0.1, 'kernel': 'linear'}"
      ]
     },
     "execution_count": 19,
     "metadata": {},
     "output_type": "execute_result"
    }
   ],
   "source": [
    "svm = SVC(random_state=SEED)\n",
    "\n",
    "parameters = {'C': [1, 10, 100], \n",
    "              'kernel': ['rbf', 'linear'],\n",
    "             'gamma': [0.1, 0.01, 0.001]}\n",
    "\n",
    "scorer = make_scorer(accuracy_score)\n",
    "\n",
    "grid_obj = GridSearchCV(estimator=svm,\n",
    "                       param_grid=parameters,\n",
    "                       scoring=scorer)\n",
    "\n",
    "grid_fit = grid_obj.fit(X_train, y_train)\n",
    "\n",
    "svm_params = grid_fit.best_params_\n",
    "svm_params "
   ]
  },
  {
   "cell_type": "code",
   "execution_count": 20,
   "metadata": {
    "collapsed": true
   },
   "outputs": [],
   "source": [
    "svm = SVC(C=1,\n",
    "            gamma=0.1,\n",
    "            kernel='linear',\n",
    "            random_state=SEED)\n",
    "\n",
    "svm.fit(X_train, y_train)\n",
    "\n",
    "svm_pred = svm.predict(X_test)"
   ]
  },
  {
   "cell_type": "code",
   "execution_count": 21,
   "metadata": {
    "collapsed": true
   },
   "outputs": [],
   "source": [
    "svm_score = grid_fit.best_score_"
   ]
  },
  {
   "cell_type": "markdown",
   "metadata": {},
   "source": [
    "### K Nearest Neighbors"
   ]
  },
  {
   "cell_type": "code",
   "execution_count": 22,
   "metadata": {
    "scrolled": true
   },
   "outputs": [
    {
     "data": {
      "text/plain": [
       "{'n_neighbors': 10, 'weights': 'uniform'}"
      ]
     },
     "execution_count": 22,
     "metadata": {},
     "output_type": "execute_result"
    }
   ],
   "source": [
    "knn = KNeighborsClassifier()\n",
    "\n",
    "parameters = {'n_neighbors': [2, 5, 10, 20], \n",
    "              'weights': ['uniform', 'distance']}\n",
    "\n",
    "scorer = make_scorer(accuracy_score)\n",
    "\n",
    "# uses 3-fold as default (explain??) \n",
    "grid_obj = GridSearchCV(estimator=knn,\n",
    "                       param_grid=parameters,\n",
    "                       scoring=scorer)\n",
    "\n",
    "grid_fit = grid_obj.fit(X_train, y_train)\n",
    "\n",
    "knn_params = grid_fit.best_params_\n",
    "knn_score = grid_fit.best_score_\n",
    "knn_params # display the best parameters for knn \n"
   ]
  },
  {
   "cell_type": "code",
   "execution_count": 23,
   "metadata": {
    "collapsed": true
   },
   "outputs": [],
   "source": [
    "knn = KNeighborsClassifier(n_neighbors=10,\n",
    "                                weights='uniform')\n",
    "\n",
    "knn.fit(X_train, y_train)\n",
    "\n",
    "knn_pred = knn.predict(X_test)\n"
   ]
  },
  {
   "cell_type": "markdown",
   "metadata": {},
   "source": [
    "### XGB \n",
    "\n",
    "Extreme Gradient Boosting classifier. An algorithm that is often used in winning solutions at Kaggle competitions."
   ]
  },
  {
   "cell_type": "code",
   "execution_count": 24,
   "metadata": {},
   "outputs": [
    {
     "data": {
      "text/plain": [
       "{'learning_rate': 0.2, 'max_depth': 6, 'min_child_weight': 10}"
      ]
     },
     "execution_count": 24,
     "metadata": {},
     "output_type": "execute_result"
    }
   ],
   "source": [
    "gbm = xgb.XGBClassifier()\n",
    "parameters = {'learning_rate': [0.01, 0.1, 0.2, 0.3],\n",
    "              'min_child_weight': [1,10, 20],\n",
    "             'max_depth': [1, 3, 6, 10]}\n",
    "\n",
    "scorer = make_scorer(accuracy_score)\n",
    "\n",
    "\n",
    "grid_obj = GridSearchCV(estimator=gbm,\n",
    "                       param_grid=parameters,\n",
    "                       scoring=scorer)\n",
    "\n",
    "grid_fit = grid_obj.fit(X_train, y_train)\n",
    "\n",
    "gbm_params = grid_fit.best_params_\n",
    "gbm_score = grid_fit.best_score_\n",
    "gbm_params"
   ]
  },
  {
   "cell_type": "code",
   "execution_count": 25,
   "metadata": {
    "collapsed": true
   },
   "outputs": [],
   "source": [
    "gbm = xgb.XGBClassifier(learning_rate=0.2,\n",
    "                                min_child_weight=10,\n",
    "                       max_depth=6)\n",
    "\n",
    "gbm.fit(X_train, y_train)\n",
    "\n",
    "gbm_pred = gbm.predict(X_test)"
   ]
  },
  {
   "cell_type": "markdown",
   "metadata": {},
   "source": [
    "# Second-Level Predictions from the First-level Output\n",
    "\n",
    "Now that I have trained the individual algorithms I will create a voting method of a simple average as well as a weighted average to prove whether Stacking those algorithms will lead to a higher accuracy score than without Stacking. The weighted average assigns higher weights on the outcome of those algorithms that performed a higher score during the cross validation process. If the average score is 0.5 or above the final output will be 1, else 0. "
   ]
  },
  {
   "cell_type": "code",
   "execution_count": 26,
   "metadata": {
    "collapsed": true,
    "scrolled": false
   },
   "outputs": [],
   "source": [
    "x_train = np.column_stack((gbc.predict(X_train), dtc.predict(X_train), \n",
    "                          abc.predict(X_train), etc.predict(X_train),\n",
    "                          svm.predict(X_train), knn.predict(X_train),\n",
    "                          gbm.predict(X_train)))\n",
    "x_test = np.column_stack((gbc_pred, dtc_pred, abc_pred, etc_pred,\n",
    "                          svm_pred, knn_pred, gbm_pred))"
   ]
  },
  {
   "cell_type": "code",
   "execution_count": 27,
   "metadata": {
    "collapsed": true
   },
   "outputs": [],
   "source": [
    "def simple_average(x):\n",
    "    '''creates a simple average vote'''\n",
    "    output = []\n",
    "    for i in x:\n",
    "        if (sum(i)/7) >= 0.5:\n",
    "            output.append(1)\n",
    "        else:\n",
    "            output.append(0)\n",
    "\n",
    "    return output\n",
    "\n",
    "def weighted_average(x):\n",
    "    '''creates a weighted average vote'''\n",
    "    output = []\n",
    "    \n",
    "    weights = [gbc_score, dtc_score, abc_score, \n",
    "             etc_score, svm_score, knn_score, gbm_score]\n",
    "    for i in x:\n",
    "        s = 0\n",
    "        for weight, y in enumerate(i):\n",
    "            s += weights[weight] * y\n",
    "        \n",
    "        if (s/sum(weights)) >= 0.5:\n",
    "            output.append(1)\n",
    "        else:\n",
    "            output.append(0)\n",
    "\n",
    "    return output"
   ]
  },
  {
   "cell_type": "code",
   "execution_count": 28,
   "metadata": {
    "collapsed": true,
    "scrolled": true
   },
   "outputs": [],
   "source": [
    "#creating a 2D np array with all the individual \n",
    "# outputs from all algorithms for each individual data point\n",
    "# on the test data set. \n",
    "x_test_actual = np.column_stack((gbc.predict(test), dtc.predict(test), \n",
    "                          abc.predict(test), etc.predict(test),\n",
    "                          svm.predict(test), knn.predict(test), \n",
    "                          gbm.predict(test)))"
   ]
  },
  {
   "cell_type": "code",
   "execution_count": 29,
   "metadata": {
    "collapsed": true,
    "scrolled": false
   },
   "outputs": [],
   "source": [
    "#creating the output with a simple and a weighted average\n",
    "sim_output = simple_average(x_test_actual)\n",
    "weigh_output = weighted_average(x_test_actual)"
   ]
  },
  {
   "cell_type": "markdown",
   "metadata": {},
   "source": [
    "In the following lines of code I am creating .csv files for submissions. Then I will note down manually the Kaggle accuracy score for each individual submission to check which algorithm has achieved the highest accuracy. "
   ]
  },
  {
   "cell_type": "code",
   "execution_count": 30,
   "metadata": {
    "collapsed": true
   },
   "outputs": [],
   "source": [
    "#simple average\n",
    "StackingSubmission = pd.DataFrame({ 'PassengerId': PassengerId, \n",
    "                                   'Survived': sim_output})\n",
    "StackingSubmission.to_csv('StackingSubmission_0.csv', index=False)"
   ]
  },
  {
   "cell_type": "code",
   "execution_count": 31,
   "metadata": {
    "collapsed": true
   },
   "outputs": [],
   "source": [
    "#weighted average\n",
    "StackingSubmission0 = pd.DataFrame({ 'PassengerId': PassengerId, \n",
    "                                    'Survived': weigh_output})\n",
    "StackingSubmission0.to_csv('StackingSubmission_1.csv', index=False)"
   ]
  },
  {
   "cell_type": "code",
   "execution_count": 32,
   "metadata": {
    "collapsed": true
   },
   "outputs": [],
   "source": [
    "# Extra Tree Classifier only\n",
    "output = etc.predict(test)\n",
    "output\n",
    "StackingSubmission2 = pd.DataFrame({ 'PassengerId': PassengerId, \n",
    "                                    'Survived': output})\n",
    "StackingSubmission2.to_csv('StackingSubmission_2.csv', index=False)"
   ]
  },
  {
   "cell_type": "code",
   "execution_count": 33,
   "metadata": {
    "collapsed": true
   },
   "outputs": [],
   "source": [
    "# Gradient Boosting Classifier only\n",
    "output = gbc.predict(test)\n",
    "output\n",
    "StackingSubmission3 = pd.DataFrame({ 'PassengerId': PassengerId, \n",
    "                                    'Survived': output})\n",
    "StackingSubmission3.to_csv('StackingSubmission_3.csv', index=False)"
   ]
  },
  {
   "cell_type": "code",
   "execution_count": 34,
   "metadata": {
    "collapsed": true
   },
   "outputs": [],
   "source": [
    "# Decision Tree Classifier only\n",
    "output = dtc.predict(test)\n",
    "output\n",
    "StackingSubmission5 = pd.DataFrame({ 'PassengerId': PassengerId, \n",
    "                                    'Survived': output})\n",
    "StackingSubmission5.to_csv('StackingSubmission_4.csv', index=False)"
   ]
  },
  {
   "cell_type": "code",
   "execution_count": 35,
   "metadata": {
    "collapsed": true
   },
   "outputs": [],
   "source": [
    "# Ada Boost Classifier only\n",
    "output = abc.predict(test)\n",
    "output\n",
    "StackingSubmission6 = pd.DataFrame({ 'PassengerId': PassengerId, \n",
    "                                    'Survived': output})\n",
    "StackingSubmission6.to_csv('StackingSubmission_5.csv', index=False)"
   ]
  },
  {
   "cell_type": "code",
   "execution_count": 36,
   "metadata": {
    "collapsed": true
   },
   "outputs": [],
   "source": [
    "# Support Vector Machine Classifier only\n",
    "output = svm.predict(test)\n",
    "output\n",
    "StackingSubmission7 = pd.DataFrame({ 'PassengerId': PassengerId, \n",
    "                                    'Survived': output})\n",
    "StackingSubmission7.to_csv('StackingSubmission_6.csv', index=False)"
   ]
  },
  {
   "cell_type": "code",
   "execution_count": 37,
   "metadata": {
    "collapsed": true
   },
   "outputs": [],
   "source": [
    "# K-NearestNeighbor Classifier only\n",
    "output = knn.predict(test)\n",
    "output\n",
    "StackingSubmission8 = pd.DataFrame({ 'PassengerId': PassengerId, \n",
    "                                    'Survived': output})\n",
    "StackingSubmission8.to_csv('StackingSubmission_7.csv', index=False)"
   ]
  },
  {
   "cell_type": "code",
   "execution_count": 38,
   "metadata": {
    "collapsed": true
   },
   "outputs": [],
   "source": [
    "# XGB Classifier only\n",
    "output = gbm.predict(test)\n",
    "output\n",
    "StackingSubmission9 = pd.DataFrame({ 'PassengerId': PassengerId, \n",
    "                                    'Survived': output})\n",
    "StackingSubmission9.to_csv('StackingSubmission_8.csv', index=False)"
   ]
  },
  {
   "cell_type": "markdown",
   "metadata": {},
   "source": [
    "# Final Accuracy Scores: \n",
    "\n",
    "| method | score  |\n",
    "|---|---|\n",
    "|  Extra Tree Classifier |  0.77033 |\n",
    "| Gradient Boosting Classifier  | 0.75598  |\n",
    "|  Decision Tree Classifier | 0.71770  |\n",
    "| Ada Boost Classifier  |  0.77033 |\n",
    "| Support Vector Machine Classifier  | 0.77033  |\n",
    "|  K-Nearest Neighbor | 0.68421  |\n",
    "|  XGB Classifier | 0.76076  |\n",
    "| **simple average on 2nd level** | **0.77511**   |\n",
    "| **weighted average on 2nd level** | **0.77511**  |\n",
    "\n",
    "My thesis is confirmed and I have achieved the highest score with the output of the stacked model. In this case the weighted average yields the same accuracy score as the simple average. I can also see that the Extra Tree Classifier, Ada Boost Classifier and Support Vector Machine Classifier all achieve the second highest score. \n",
    "\n",
    "The improvement in scores of 0.5 % points is not very high. However, I do see this project to be successful as in this example the outcome was what I have expected. I know that data scientists in Kaggle competitions have significantly more complex Stacking methods also including more than two levels of predictions with more than 7 base models. \n",
    "\n",
    "I am satisfied with my results and I am motivated to do further research to experiment with more complex Stacking methods to achieve the highest accuracy scores possible."
   ]
  }
 ],
 "metadata": {
  "kernelspec": {
   "display_name": "Python 3",
   "language": "python",
   "name": "python3"
  },
  "language_info": {
   "codemirror_mode": {
    "name": "ipython",
    "version": 3
   },
   "file_extension": ".py",
   "mimetype": "text/x-python",
   "name": "python",
   "nbconvert_exporter": "python",
   "pygments_lexer": "ipython3",
   "version": "3.6.3"
  }
 },
 "nbformat": 4,
 "nbformat_minor": 2
}
